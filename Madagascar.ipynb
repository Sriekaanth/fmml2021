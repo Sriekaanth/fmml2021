{
  "nbformat": 4,
  "nbformat_minor": 0,
  "metadata": {
    "colab": {
      "name": "Madagascar.ipynb",
      "provenance": [],
      "collapsed_sections": [],
      "authorship_tag": "ABX9TyMh5DwhgpHB711ailZ/BL9D",
      "include_colab_link": true
    },
    "kernelspec": {
      "name": "python3",
      "display_name": "Python 3"
    },
    "language_info": {
      "name": "python"
    }
  },
  "cells": [
    {
      "cell_type": "markdown",
      "metadata": {
        "id": "view-in-github",
        "colab_type": "text"
      },
      "source": [
        "<a href=\"https://colab.research.google.com/github/Sriekaanth/fmml2021/blob/main/Madagascar.ipynb\" target=\"_parent\"><img src=\"https://colab.research.google.com/assets/colab-badge.svg\" alt=\"Open In Colab\"/></a>"
      ]
    },
    {
      "cell_type": "code",
      "metadata": {
        "id": "4JeKQWIbdckO"
      },
      "source": [
        "MadagascarDB = [] # Madagascar Data\n",
        "MadagascarDB.append(dict({\"CID\":\"AAA\",\"Age\":20,\"BSL\": 122, \"APL\":20}))\n",
        "MadagascarDB.append(dict({\"CID\":\"AAB\",\"Age\":35,\"BSL\": 180, \"APL\":35}))\n",
        "MadagascarDB.append(dict({\"CID\":\"ACA\",\"Age\":50,\"BSL\": 220, \"APL\":65}))\n",
        "MadagascarDB.append(dict({\"CID\":\"ABB\",\"Age\":70,\"BSL\": 300, \"APL\":30}))\n"
      ],
      "execution_count": 17,
      "outputs": []
    },
    {
      "cell_type": "code",
      "metadata": {
        "id": "27h_DOhXk5X-"
      },
      "source": [
        "# Function to List the High Risk People\n",
        "def GetRiskProneList(DB):\n",
        "  # Variables\n",
        "  W_Age=0.05              # Contribution of Age Factor\n",
        "  W_BloodSugar=0.0002     # Contribution of Blood Sugar\n",
        "  W_PollutatntLevel=0.02  # Contribution of Pollutant Level\n",
        "  ProneList=[]            # List of High Risk People\n",
        "\n",
        "  # Calculating Weighted Sum of All Features\n",
        "  for dct in DB:\n",
        "    D=dict(dct)\n",
        "    Name=D.get(\"CID\")\n",
        "    WAVal=(D.get(\"Age\")*W_Age)+(D.get(\"BSL\")*W_BloodSugar)+(D.get(\"APL\")*W_PollutatntLevel)\n",
        "    # print(Name, \" : \", WAVal)\n",
        "    if WAVal>4:\n",
        "      ItemDetail= (Name, \" | Weighted Sum: \", WAVal)\n",
        "      ProneList.append(ItemDetail) # Adding the Name to High Risk People List\n",
        "\n",
        "  # Printing Result\n",
        "  if len(ProneList)>0:\n",
        "    print (\"High Risk People Found: \", len(ProneList))\n",
        "    for N in ProneList:\n",
        "      print(N)\n",
        "  else:\n",
        "    print (\"High Risk People Not Found\")\n",
        "\n",
        "\n"
      ],
      "execution_count": 68,
      "outputs": []
    },
    {
      "cell_type": "code",
      "metadata": {
        "colab": {
          "base_uri": "https://localhost:8080/"
        },
        "id": "lPxhQGe6loYW",
        "outputId": "a5028248-56aa-4d20-b033-46e0accf3a1f"
      },
      "source": [
        "# Calling the Function\n",
        "GetRiskProneList(MadagascarDB)"
      ],
      "execution_count": 67,
      "outputs": [
        {
          "output_type": "stream",
          "name": "stdout",
          "text": [
            "High Risk People Found:  1\n",
            "('ABB', ' | Weighted Sum: ', 4.16)\n"
          ]
        }
      ]
    }
  ]
}